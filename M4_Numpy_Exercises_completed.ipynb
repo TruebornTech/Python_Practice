{
  "nbformat": 4,
  "nbformat_minor": 0,
  "metadata": {
    "colab": {
      "provenance": []
    },
    "kernelspec": {
      "name": "python3",
      "display_name": "Python 3"
    },
    "language_info": {
      "name": "python"
    }
  },
  "cells": [
    {
      "cell_type": "code",
      "source": [
        "#Given a 1D array, negate all elements which are between 3 and 8, in place.\n"
      ],
      "metadata": {
        "id": "AQ8ZsZyJDEcy"
      },
      "execution_count": null,
      "outputs": []
    },
    {
      "cell_type": "code",
      "source": [
        "import numpy as np"
      ],
      "metadata": {
        "id": "owCZVzW6PDce"
      },
      "execution_count": 3,
      "outputs": []
    },
    {
      "cell_type": "code",
      "source": [
        "a = np.random.random(12)\n",
        "a\n"
      ],
      "metadata": {
        "colab": {
          "base_uri": "https://localhost:8080/"
        },
        "id": "t2HYJBcESXZJ",
        "outputId": "f945cb4b-b61f-460d-8014-bad8ad004aeb"
      },
      "execution_count": 13,
      "outputs": [
        {
          "output_type": "execute_result",
          "data": {
            "text/plain": [
              "array([0.24907349, 0.83518096, 0.37694518, 0.35034211, 0.06204109,\n",
              "       0.36927201, 0.21742334, 0.04419124, 0.53925141, 0.8432456 ,\n",
              "       0.31031237, 0.86441803])"
            ]
          },
          "metadata": {},
          "execution_count": 13
        }
      ]
    },
    {
      "cell_type": "code",
      "source": [
        "a[(a>=3)&(a<=8)]*=-1\n",
        "a"
      ],
      "metadata": {
        "id": "Y4AloH4-T8z4",
        "colab": {
          "base_uri": "https://localhost:8080/"
        },
        "outputId": "729f280f-dbf4-477a-faf2-9b32aeaa0d65"
      },
      "execution_count": 15,
      "outputs": [
        {
          "output_type": "execute_result",
          "data": {
            "text/plain": [
              "array([0.24907349, 0.83518096, 0.37694518, 0.35034211, 0.06204109,\n",
              "       0.36927201, 0.21742334, 0.04419124, 0.53925141, 0.8432456 ,\n",
              "       0.31031237, 0.86441803])"
            ]
          },
          "metadata": {},
          "execution_count": 15
        }
      ]
    },
    {
      "cell_type": "code",
      "source": [
        "x=5\n",
        "x*=-1   # multiplies x by -1\n",
        "x"
      ],
      "metadata": {
        "colab": {
          "base_uri": "https://localhost:8080/"
        },
        "id": "Fmjin0OsPy6-",
        "outputId": "ca3aeeaa-058f-4138-91ef-f9ab5408ab35"
      },
      "execution_count": 18,
      "outputs": [
        {
          "output_type": "execute_result",
          "data": {
            "text/plain": [
              "-5"
            ]
          },
          "metadata": {},
          "execution_count": 18
        }
      ]
    },
    {
      "cell_type": "code",
      "source": [
        "#Create a 2D array of shape 5x3 to contain random decimal numbers between 5 and 10.\n",
        "b = np.random.uniform(5,10,(5, 3))\n",
        "b"
      ],
      "metadata": {
        "id": "9-jItC0TDVqQ",
        "colab": {
          "base_uri": "https://localhost:8080/"
        },
        "outputId": "4308dae7-8acd-4507-9667-d7146db56a82"
      },
      "execution_count": 19,
      "outputs": [
        {
          "output_type": "execute_result",
          "data": {
            "text/plain": [
              "array([[8.49739781, 5.61054041, 7.15303453],\n",
              "       [6.14667221, 9.47595476, 6.49705965],\n",
              "       [9.6439709 , 5.18446313, 5.19332024],\n",
              "       [5.26061353, 5.4110364 , 7.12083455],\n",
              "       [9.55335313, 8.33479917, 6.54780305]])"
            ]
          },
          "metadata": {},
          "execution_count": 19
        }
      ]
    },
    {
      "cell_type": "code",
      "source": [
        "# Given a 1D array, add 1 to every alternate element.\n",
        "a\n",
        "a[::2]=a[::2]+1\n",
        "a"
      ],
      "metadata": {
        "id": "HDaCE9PmDajj",
        "colab": {
          "base_uri": "https://localhost:8080/"
        },
        "outputId": "f5edf634-92db-4a1e-e13f-bc07e987e8ac"
      },
      "execution_count": null,
      "outputs": [
        {
          "output_type": "execute_result",
          "data": {
            "text/plain": [
              "array([1.76286615, 0.53281217, 1.36405572, 0.41126815, 1.24624624,\n",
              "       0.11203632, 1.21297768, 0.69958934, 1.92405496, 0.89076414,\n",
              "       1.35501525, 0.82317797])"
            ]
          },
          "metadata": {},
          "execution_count": 105
        }
      ]
    },
    {
      "cell_type": "code",
      "source": [
        "a[::2]+=1\n",
        "a"
      ],
      "metadata": {
        "colab": {
          "base_uri": "https://localhost:8080/"
        },
        "id": "PHKkK5-ggfpX",
        "outputId": "4e0fc66e-4daa-4385-c6c6-03f450a586e5"
      },
      "execution_count": null,
      "outputs": [
        {
          "output_type": "execute_result",
          "data": {
            "text/plain": [
              "array([1.38149612, 0.03400909, 1.88722056, 0.4971579 , 1.02616028,\n",
              "       0.8918212 , 1.99259084, 0.28025065, 1.44650545, 0.85163306,\n",
              "       1.47433037, 0.27746328])"
            ]
          },
          "metadata": {},
          "execution_count": 109
        }
      ]
    },
    {
      "cell_type": "code",
      "source": [
        "# Given a 2D array, flatten it to a 1D array.\n",
        "c = b.flatten()\n",
        "c"
      ],
      "metadata": {
        "id": "OUyapZj5DqpS",
        "colab": {
          "base_uri": "https://localhost:8080/"
        },
        "outputId": "49a4553d-f74c-44e4-cb94-511dc4f2127c"
      },
      "execution_count": null,
      "outputs": [
        {
          "output_type": "execute_result",
          "data": {
            "text/plain": [
              "array([7.94287301, 6.9439076 , 7.25474753, 6.23460529, 7.89789449,\n",
              "       9.77940341, 7.97220031, 6.42526957, 5.37384608, 7.81189703,\n",
              "       5.93871838, 7.86557354, 5.67732528, 6.87813835, 6.65005571])"
            ]
          },
          "metadata": {},
          "execution_count": 93
        }
      ]
    },
    {
      "cell_type": "code",
      "source": [
        "# Convert a 1D array of 20 grayscale image values into a 2D array of 5x4 shape.\n"
      ],
      "metadata": {
        "id": "QEsIccWHDjR1"
      },
      "execution_count": null,
      "outputs": []
    },
    {
      "cell_type": "code",
      "source": [
        "a = np.arange(20)\n",
        "a.reshape(5,4)"
      ],
      "metadata": {
        "colab": {
          "base_uri": "https://localhost:8080/"
        },
        "id": "jTWu_WY4RmcF",
        "outputId": "e831a75a-3024-4c5d-9097-856173488e0f"
      },
      "execution_count": 20,
      "outputs": [
        {
          "output_type": "execute_result",
          "data": {
            "text/plain": [
              "array([[ 0,  1,  2,  3],\n",
              "       [ 4,  5,  6,  7],\n",
              "       [ 8,  9, 10, 11],\n",
              "       [12, 13, 14, 15],\n",
              "       [16, 17, 18, 19]])"
            ]
          },
          "metadata": {},
          "execution_count": 20
        }
      ]
    },
    {
      "cell_type": "code",
      "source": [
        "# replace odd numbers in a 3 dimensional array with even number\n",
        "\n",
        "import numpy as np\n",
        "np.random.seed(100)\n",
        "store = np.random.normal(5,10,27).astype(int)\n"
      ],
      "metadata": {
        "id": "meMgPPYbjS12"
      },
      "execution_count": 21,
      "outputs": []
    },
    {
      "cell_type": "code",
      "source": [
        "store=store.reshape((3,3,3))"
      ],
      "metadata": {
        "id": "IwtPzeNat6nH"
      },
      "execution_count": 22,
      "outputs": []
    },
    {
      "cell_type": "code",
      "source": [
        "store"
      ],
      "metadata": {
        "colab": {
          "base_uri": "https://localhost:8080/"
        },
        "id": "xObvBHv4uNo8",
        "outputId": "48cdeb5e-e4f1-4e9a-f126-0b075f2facf5"
      },
      "execution_count": 23,
      "outputs": [
        {
          "output_type": "execute_result",
          "data": {
            "text/plain": [
              "array([[[-12,   8,  16],\n",
              "        [  2,  14,  10],\n",
              "        [  7,  -5,   3]],\n",
              "\n",
              "       [[  7,   0,   9],\n",
              "        [  0,  13,  11],\n",
              "        [  3,   0,  15]],\n",
              "\n",
              "       [[  0,  -6,  21],\n",
              "        [ 20,   2,  -3],\n",
              "        [  6,  14,  12]]])"
            ]
          },
          "metadata": {},
          "execution_count": 23
        }
      ]
    },
    {
      "cell_type": "code",
      "source": [
        "store[store%2!=0]+=1\n",
        "store"
      ],
      "metadata": {
        "id": "EmJCcuEOg62e",
        "colab": {
          "base_uri": "https://localhost:8080/"
        },
        "outputId": "5729da20-548e-4056-ecfb-6c999dc5f5f9"
      },
      "execution_count": 26,
      "outputs": [
        {
          "output_type": "execute_result",
          "data": {
            "text/plain": [
              "array([[[-12,   8,  16],\n",
              "        [  2,  14,  10],\n",
              "        [  8,  -4,   4]],\n",
              "\n",
              "       [[  8,   0,  10],\n",
              "        [  0,  14,  12],\n",
              "        [  4,   0,  16]],\n",
              "\n",
              "       [[  0,  -6,  22],\n",
              "        [ 20,   2,  -2],\n",
              "        [  6,  14,  12]]])"
            ]
          },
          "metadata": {},
          "execution_count": 26
        }
      ]
    },
    {
      "cell_type": "code",
      "source": [
        "#Exercise 2 create a 2 dimension numpy array to fill with 0's and 1's but the output should look like a checker board\n",
        "'''\n",
        "[[0 1 0 1 0 1 0 1]\n",
        " [1 0 1 0 1 0 1 0]\n",
        " [0 1 0 1 0 1 0 1]\n",
        " [1 0 1 0 1 0 1 0]\n",
        " [0 1 0 1 0 1 0 1]\n",
        " [1 0 1 0 1 0 1 0]\n",
        " [0 1 0 1 0 1 0 1]\n",
        " [1 0 1 0 1 0 1 0]]\n",
        "'''\n",
        "\n",
        "\n"
      ],
      "metadata": {
        "id": "cvTrWvFWa--D"
      },
      "execution_count": null,
      "outputs": []
    },
    {
      "cell_type": "code",
      "source": [
        "# Solution\n",
        "z = np.zeros((8,8), dtype=int)\n",
        "z"
      ],
      "metadata": {
        "colab": {
          "base_uri": "https://localhost:8080/"
        },
        "id": "yLabg7NnT3A2",
        "outputId": "3704978e-4d94-4223-8b53-6c33ba86e08c"
      },
      "execution_count": 88,
      "outputs": [
        {
          "output_type": "execute_result",
          "data": {
            "text/plain": [
              "array([[0, 0, 0, 0, 0, 0, 0, 0],\n",
              "       [0, 0, 0, 0, 0, 0, 0, 0],\n",
              "       [0, 0, 0, 0, 0, 0, 0, 0],\n",
              "       [0, 0, 0, 0, 0, 0, 0, 0],\n",
              "       [0, 0, 0, 0, 0, 0, 0, 0],\n",
              "       [0, 0, 0, 0, 0, 0, 0, 0],\n",
              "       [0, 0, 0, 0, 0, 0, 0, 0],\n",
              "       [0, 0, 0, 0, 0, 0, 0, 0]])"
            ]
          },
          "metadata": {},
          "execution_count": 88
        }
      ]
    },
    {
      "cell_type": "code",
      "source": [
        "z[1::2,::2] = 1\n",
        "z[::2,1::2] = 1\n",
        "z"
      ],
      "metadata": {
        "colab": {
          "base_uri": "https://localhost:8080/"
        },
        "id": "Jz1kn3OLUt91",
        "outputId": "4c8e67c7-934b-44aa-ed7a-12bb114b4db7"
      },
      "execution_count": 89,
      "outputs": [
        {
          "output_type": "execute_result",
          "data": {
            "text/plain": [
              "array([[0, 1, 0, 1, 0, 1, 0, 1],\n",
              "       [1, 0, 1, 0, 1, 0, 1, 0],\n",
              "       [0, 1, 0, 1, 0, 1, 0, 1],\n",
              "       [1, 0, 1, 0, 1, 0, 1, 0],\n",
              "       [0, 1, 0, 1, 0, 1, 0, 1],\n",
              "       [1, 0, 1, 0, 1, 0, 1, 0],\n",
              "       [0, 1, 0, 1, 0, 1, 0, 1],\n",
              "       [1, 0, 1, 0, 1, 0, 1, 0]])"
            ]
          },
          "metadata": {},
          "execution_count": 89
        }
      ]
    },
    {
      "cell_type": "code",
      "source": [
        "\n"
      ],
      "metadata": {
        "id": "DnL0dPXJUusd"
      },
      "execution_count": null,
      "outputs": []
    },
    {
      "cell_type": "code",
      "source": [
        "#Exercise 3 Consider a numpy array of shape (200,3)\n",
        "# We need to extract those rows which are symmetrical.\n",
        "# [1,2,1] is symmetrical [1,2,3] isnt\n",
        "\n",
        "Z = np.random.randint(0,5,(200,3))\n",
        "# [0,2,0]\n",
        "# solution 1\n",
        "Z"
      ],
      "metadata": {
        "id": "qG6m_6rZdD21",
        "colab": {
          "base_uri": "https://localhost:8080/"
        },
        "outputId": "1e2f60e0-0783-4f0a-b3fe-5b0c49be5c83"
      },
      "execution_count": 94,
      "outputs": [
        {
          "output_type": "execute_result",
          "data": {
            "text/plain": [
              "array([[0, 4, 2],\n",
              "       [0, 3, 1],\n",
              "       [1, 1, 0],\n",
              "       [0, 1, 3],\n",
              "       [4, 3, 2],\n",
              "       [2, 2, 0],\n",
              "       [3, 2, 3],\n",
              "       [0, 4, 2],\n",
              "       [3, 1, 3],\n",
              "       [1, 1, 1],\n",
              "       [0, 2, 4],\n",
              "       [2, 0, 4],\n",
              "       [3, 2, 4],\n",
              "       [1, 2, 0],\n",
              "       [0, 4, 4],\n",
              "       [1, 1, 2],\n",
              "       [0, 1, 0],\n",
              "       [2, 2, 4],\n",
              "       [2, 2, 3],\n",
              "       [2, 1, 4],\n",
              "       [1, 3, 2],\n",
              "       [3, 3, 4],\n",
              "       [2, 4, 2],\n",
              "       [3, 1, 0],\n",
              "       [4, 2, 0],\n",
              "       [2, 3, 2],\n",
              "       [1, 0, 0],\n",
              "       [2, 2, 1],\n",
              "       [3, 2, 3],\n",
              "       [1, 0, 1],\n",
              "       [0, 3, 0],\n",
              "       [2, 1, 3],\n",
              "       [1, 4, 3],\n",
              "       [1, 3, 0],\n",
              "       [0, 0, 0],\n",
              "       [0, 0, 3],\n",
              "       [0, 0, 1],\n",
              "       [1, 1, 2],\n",
              "       [0, 4, 4],\n",
              "       [4, 4, 3],\n",
              "       [0, 4, 3],\n",
              "       [1, 1, 2],\n",
              "       [3, 1, 3],\n",
              "       [1, 3, 1],\n",
              "       [4, 0, 0],\n",
              "       [2, 0, 0],\n",
              "       [1, 4, 3],\n",
              "       [1, 0, 4],\n",
              "       [1, 2, 2],\n",
              "       [2, 4, 0],\n",
              "       [3, 2, 4],\n",
              "       [4, 2, 1],\n",
              "       [4, 3, 2],\n",
              "       [4, 3, 0],\n",
              "       [0, 3, 0],\n",
              "       [3, 3, 0],\n",
              "       [0, 0, 1],\n",
              "       [2, 0, 4],\n",
              "       [2, 2, 3],\n",
              "       [2, 3, 4],\n",
              "       [2, 0, 0],\n",
              "       [2, 4, 4],\n",
              "       [2, 4, 1],\n",
              "       [0, 3, 0],\n",
              "       [3, 1, 1],\n",
              "       [0, 0, 2],\n",
              "       [1, 0, 1],\n",
              "       [2, 2, 1],\n",
              "       [2, 0, 1],\n",
              "       [4, 1, 4],\n",
              "       [3, 3, 0],\n",
              "       [3, 2, 3],\n",
              "       [1, 2, 4],\n",
              "       [4, 1, 4],\n",
              "       [0, 2, 1],\n",
              "       [1, 2, 3],\n",
              "       [2, 3, 0],\n",
              "       [3, 4, 4],\n",
              "       [1, 2, 3],\n",
              "       [1, 0, 4],\n",
              "       [1, 1, 3],\n",
              "       [3, 4, 3],\n",
              "       [0, 2, 4],\n",
              "       [2, 4, 3],\n",
              "       [4, 4, 4],\n",
              "       [2, 0, 0],\n",
              "       [1, 3, 2],\n",
              "       [4, 3, 0],\n",
              "       [0, 1, 2],\n",
              "       [0, 1, 3],\n",
              "       [4, 2, 4],\n",
              "       [4, 2, 1],\n",
              "       [0, 1, 2],\n",
              "       [1, 4, 0],\n",
              "       [3, 4, 3],\n",
              "       [1, 1, 0],\n",
              "       [1, 4, 0],\n",
              "       [1, 1, 3],\n",
              "       [0, 4, 2],\n",
              "       [1, 1, 2],\n",
              "       [1, 4, 0],\n",
              "       [1, 1, 4],\n",
              "       [2, 1, 0],\n",
              "       [3, 2, 2],\n",
              "       [3, 2, 2],\n",
              "       [3, 4, 0],\n",
              "       [0, 0, 3],\n",
              "       [1, 2, 1],\n",
              "       [2, 2, 2],\n",
              "       [1, 1, 0],\n",
              "       [4, 3, 2],\n",
              "       [0, 1, 3],\n",
              "       [2, 3, 4],\n",
              "       [1, 3, 0],\n",
              "       [3, 2, 1],\n",
              "       [4, 2, 2],\n",
              "       [2, 4, 3],\n",
              "       [1, 0, 3],\n",
              "       [2, 0, 3],\n",
              "       [4, 2, 4],\n",
              "       [3, 3, 2],\n",
              "       [2, 3, 4],\n",
              "       [2, 4, 4],\n",
              "       [2, 1, 4],\n",
              "       [3, 1, 3],\n",
              "       [1, 4, 1],\n",
              "       [0, 1, 4],\n",
              "       [4, 3, 0],\n",
              "       [0, 1, 0],\n",
              "       [4, 0, 4],\n",
              "       [2, 3, 4],\n",
              "       [1, 4, 1],\n",
              "       [2, 4, 4],\n",
              "       [4, 1, 1],\n",
              "       [2, 2, 0],\n",
              "       [1, 2, 4],\n",
              "       [4, 3, 0],\n",
              "       [2, 3, 2],\n",
              "       [2, 4, 3],\n",
              "       [3, 2, 0],\n",
              "       [1, 3, 3],\n",
              "       [0, 3, 4],\n",
              "       [0, 4, 3],\n",
              "       [1, 4, 0],\n",
              "       [0, 1, 1],\n",
              "       [0, 3, 2],\n",
              "       [3, 2, 0],\n",
              "       [4, 3, 2],\n",
              "       [4, 0, 1],\n",
              "       [3, 1, 1],\n",
              "       [1, 0, 4],\n",
              "       [1, 2, 2],\n",
              "       [0, 1, 2],\n",
              "       [0, 0, 3],\n",
              "       [3, 4, 0],\n",
              "       [1, 0, 3],\n",
              "       [3, 2, 3],\n",
              "       [2, 2, 0],\n",
              "       [1, 2, 2],\n",
              "       [0, 2, 0],\n",
              "       [3, 1, 0],\n",
              "       [3, 1, 0],\n",
              "       [3, 0, 1],\n",
              "       [3, 4, 2],\n",
              "       [0, 2, 2],\n",
              "       [1, 4, 2],\n",
              "       [3, 0, 0],\n",
              "       [4, 1, 1],\n",
              "       [0, 3, 3],\n",
              "       [2, 0, 3],\n",
              "       [4, 3, 1],\n",
              "       [0, 4, 4],\n",
              "       [4, 4, 0],\n",
              "       [2, 0, 0],\n",
              "       [2, 1, 2],\n",
              "       [2, 3, 4],\n",
              "       [0, 0, 3],\n",
              "       [3, 1, 2],\n",
              "       [0, 4, 2],\n",
              "       [2, 3, 0],\n",
              "       [3, 1, 1],\n",
              "       [3, 0, 3],\n",
              "       [2, 2, 4],\n",
              "       [1, 2, 3],\n",
              "       [4, 0, 3],\n",
              "       [1, 2, 2],\n",
              "       [4, 2, 1],\n",
              "       [0, 0, 2],\n",
              "       [1, 0, 1],\n",
              "       [0, 1, 0],\n",
              "       [0, 3, 2],\n",
              "       [0, 0, 2],\n",
              "       [1, 2, 2],\n",
              "       [2, 3, 4],\n",
              "       [2, 1, 0],\n",
              "       [4, 2, 0],\n",
              "       [0, 2, 2],\n",
              "       [3, 3, 2],\n",
              "       [4, 3, 1],\n",
              "       [4, 0, 4]])"
            ]
          },
          "metadata": {},
          "execution_count": 94
        }
      ]
    },
    {
      "cell_type": "code",
      "source": [
        "#Solution\n",
        "Z[:,0]"
      ],
      "metadata": {
        "id": "GGbySQyli5X0",
        "colab": {
          "base_uri": "https://localhost:8080/"
        },
        "outputId": "5b851b8a-cbea-4ee5-da88-8f9ec3873477"
      },
      "execution_count": 95,
      "outputs": [
        {
          "output_type": "execute_result",
          "data": {
            "text/plain": [
              "array([0, 0, 1, 0, 4, 2, 3, 0, 3, 1, 0, 2, 3, 1, 0, 1, 0, 2, 2, 2, 1, 3,\n",
              "       2, 3, 4, 2, 1, 2, 3, 1, 0, 2, 1, 1, 0, 0, 0, 1, 0, 4, 0, 1, 3, 1,\n",
              "       4, 2, 1, 1, 1, 2, 3, 4, 4, 4, 0, 3, 0, 2, 2, 2, 2, 2, 2, 0, 3, 0,\n",
              "       1, 2, 2, 4, 3, 3, 1, 4, 0, 1, 2, 3, 1, 1, 1, 3, 0, 2, 4, 2, 1, 4,\n",
              "       0, 0, 4, 4, 0, 1, 3, 1, 1, 1, 0, 1, 1, 1, 2, 3, 3, 3, 0, 1, 2, 1,\n",
              "       4, 0, 2, 1, 3, 4, 2, 1, 2, 4, 3, 2, 2, 2, 3, 1, 0, 4, 0, 4, 2, 1,\n",
              "       2, 4, 2, 1, 4, 2, 2, 3, 1, 0, 0, 1, 0, 0, 3, 4, 4, 3, 1, 1, 0, 0,\n",
              "       3, 1, 3, 2, 1, 0, 3, 3, 3, 3, 0, 1, 3, 4, 0, 2, 4, 0, 4, 2, 2, 2,\n",
              "       0, 3, 0, 2, 3, 3, 2, 1, 4, 1, 4, 0, 1, 0, 0, 0, 1, 2, 2, 4, 0, 3,\n",
              "       4, 4])"
            ]
          },
          "metadata": {},
          "execution_count": 95
        }
      ]
    },
    {
      "cell_type": "code",
      "source": [
        "Z[:,0]==Z[:,-1]\n"
      ],
      "metadata": {
        "colab": {
          "base_uri": "https://localhost:8080/"
        },
        "id": "cwQi2cQLZI_t",
        "outputId": "c7bc04a1-b8e4-47dc-e718-964f1dc71f7f"
      },
      "execution_count": 96,
      "outputs": [
        {
          "output_type": "execute_result",
          "data": {
            "text/plain": [
              "array([False, False, False, False, False, False,  True, False,  True,\n",
              "        True, False, False, False, False, False, False,  True, False,\n",
              "       False, False, False, False,  True, False, False,  True, False,\n",
              "       False,  True,  True,  True, False, False, False,  True, False,\n",
              "       False, False, False, False, False, False,  True,  True, False,\n",
              "       False, False, False, False, False, False, False, False, False,\n",
              "        True, False, False, False, False, False, False, False, False,\n",
              "        True, False, False,  True, False, False,  True, False,  True,\n",
              "       False,  True, False, False, False, False, False, False, False,\n",
              "        True, False, False,  True, False, False, False, False, False,\n",
              "        True, False, False, False,  True, False, False, False, False,\n",
              "       False, False, False, False, False, False, False, False,  True,\n",
              "        True, False, False, False, False, False, False, False, False,\n",
              "       False, False,  True, False, False, False, False,  True,  True,\n",
              "       False, False,  True,  True, False,  True, False, False, False,\n",
              "       False, False,  True, False, False, False, False, False, False,\n",
              "       False, False, False, False, False, False, False, False, False,\n",
              "       False, False, False,  True, False, False,  True, False, False,\n",
              "       False, False, False, False, False, False, False, False, False,\n",
              "       False, False, False,  True, False, False, False, False, False,\n",
              "       False,  True, False, False, False, False, False, False,  True,\n",
              "        True, False, False, False, False, False, False, False, False,\n",
              "       False,  True])"
            ]
          },
          "metadata": {},
          "execution_count": 96
        }
      ]
    },
    {
      "cell_type": "code",
      "source": [
        "Z[Z[:,0]==Z[:,-1]]"
      ],
      "metadata": {
        "colab": {
          "base_uri": "https://localhost:8080/"
        },
        "id": "vbB8bKklZJ-9",
        "outputId": "1247e0d5-b214-4193-89a5-603bfd86f040"
      },
      "execution_count": 97,
      "outputs": [
        {
          "output_type": "execute_result",
          "data": {
            "text/plain": [
              "array([[3, 2, 3],\n",
              "       [3, 1, 3],\n",
              "       [1, 1, 1],\n",
              "       [0, 1, 0],\n",
              "       [2, 4, 2],\n",
              "       [2, 3, 2],\n",
              "       [3, 2, 3],\n",
              "       [1, 0, 1],\n",
              "       [0, 3, 0],\n",
              "       [0, 0, 0],\n",
              "       [3, 1, 3],\n",
              "       [1, 3, 1],\n",
              "       [0, 3, 0],\n",
              "       [0, 3, 0],\n",
              "       [1, 0, 1],\n",
              "       [4, 1, 4],\n",
              "       [3, 2, 3],\n",
              "       [4, 1, 4],\n",
              "       [3, 4, 3],\n",
              "       [4, 4, 4],\n",
              "       [4, 2, 4],\n",
              "       [3, 4, 3],\n",
              "       [1, 2, 1],\n",
              "       [2, 2, 2],\n",
              "       [4, 2, 4],\n",
              "       [3, 1, 3],\n",
              "       [1, 4, 1],\n",
              "       [0, 1, 0],\n",
              "       [4, 0, 4],\n",
              "       [1, 4, 1],\n",
              "       [2, 3, 2],\n",
              "       [3, 2, 3],\n",
              "       [0, 2, 0],\n",
              "       [2, 1, 2],\n",
              "       [3, 0, 3],\n",
              "       [1, 0, 1],\n",
              "       [0, 1, 0],\n",
              "       [4, 0, 4]])"
            ]
          },
          "metadata": {},
          "execution_count": 97
        }
      ]
    },
    {
      "cell_type": "code",
      "source": [],
      "metadata": {
        "id": "jrd91Y3dYjRF"
      },
      "execution_count": null,
      "outputs": []
    },
    {
      "cell_type": "code",
      "source": [
        "Z"
      ],
      "metadata": {
        "colab": {
          "base_uri": "https://localhost:8080/"
        },
        "id": "EfOPM-Hm-hZt",
        "outputId": "49c7ad93-1958-46ef-c38a-81aa56d76ce6"
      },
      "execution_count": null,
      "outputs": [
        {
          "output_type": "execute_result",
          "data": {
            "text/plain": [
              "array([[4, 0, 0],\n",
              "       [1, 2, 1],\n",
              "       [0, 3, 3],\n",
              "       [4, 1, 2],\n",
              "       [0, 3, 1],\n",
              "       [4, 3, 2],\n",
              "       [4, 3, 1],\n",
              "       [0, 1, 4],\n",
              "       [4, 0, 3],\n",
              "       [3, 0, 1],\n",
              "       [1, 4, 3],\n",
              "       [1, 0, 1],\n",
              "       [2, 1, 3],\n",
              "       [4, 3, 4],\n",
              "       [3, 3, 2],\n",
              "       [4, 1, 2],\n",
              "       [2, 1, 2],\n",
              "       [0, 2, 4],\n",
              "       [3, 2, 1],\n",
              "       [3, 4, 2],\n",
              "       [3, 2, 0],\n",
              "       [1, 3, 0],\n",
              "       [2, 2, 4],\n",
              "       [4, 1, 1],\n",
              "       [2, 3, 2],\n",
              "       [4, 2, 4],\n",
              "       [1, 4, 0],\n",
              "       [1, 1, 4],\n",
              "       [0, 1, 0],\n",
              "       [4, 3, 2],\n",
              "       [2, 3, 2],\n",
              "       [3, 4, 3],\n",
              "       [0, 1, 3],\n",
              "       [2, 4, 3],\n",
              "       [1, 0, 1],\n",
              "       [3, 1, 2],\n",
              "       [2, 2, 1],\n",
              "       [2, 1, 0],\n",
              "       [1, 0, 2],\n",
              "       [1, 1, 2],\n",
              "       [2, 0, 3],\n",
              "       [3, 2, 4],\n",
              "       [2, 0, 1],\n",
              "       [3, 4, 2],\n",
              "       [1, 4, 0],\n",
              "       [4, 1, 3],\n",
              "       [3, 0, 0],\n",
              "       [0, 0, 4],\n",
              "       [0, 1, 1],\n",
              "       [3, 4, 3],\n",
              "       [0, 0, 0],\n",
              "       [3, 1, 2],\n",
              "       [4, 1, 4],\n",
              "       [1, 2, 4],\n",
              "       [2, 3, 2],\n",
              "       [2, 4, 3],\n",
              "       [4, 3, 3],\n",
              "       [1, 1, 3],\n",
              "       [1, 3, 2],\n",
              "       [3, 0, 1],\n",
              "       [4, 2, 3],\n",
              "       [1, 1, 0],\n",
              "       [2, 2, 3],\n",
              "       [4, 1, 4],\n",
              "       [1, 1, 2],\n",
              "       [3, 1, 4],\n",
              "       [4, 0, 4],\n",
              "       [0, 2, 4],\n",
              "       [4, 0, 2],\n",
              "       [3, 0, 2],\n",
              "       [4, 3, 4],\n",
              "       [1, 0, 0],\n",
              "       [3, 2, 3],\n",
              "       [0, 0, 2],\n",
              "       [3, 2, 2],\n",
              "       [3, 4, 4],\n",
              "       [3, 4, 3],\n",
              "       [2, 1, 3],\n",
              "       [1, 3, 2],\n",
              "       [4, 3, 2],\n",
              "       [4, 0, 1],\n",
              "       [2, 4, 0],\n",
              "       [3, 0, 3],\n",
              "       [4, 3, 4],\n",
              "       [0, 2, 3],\n",
              "       [3, 4, 3],\n",
              "       [3, 3, 1],\n",
              "       [2, 4, 3],\n",
              "       [4, 0, 1],\n",
              "       [3, 3, 2],\n",
              "       [3, 1, 0],\n",
              "       [4, 0, 3],\n",
              "       [3, 2, 4],\n",
              "       [0, 1, 3],\n",
              "       [0, 0, 0],\n",
              "       [4, 0, 0],\n",
              "       [3, 1, 2],\n",
              "       [2, 3, 0],\n",
              "       [4, 3, 4],\n",
              "       [1, 4, 4],\n",
              "       [4, 3, 4],\n",
              "       [2, 1, 1],\n",
              "       [3, 3, 3],\n",
              "       [3, 2, 2],\n",
              "       [4, 0, 1],\n",
              "       [1, 1, 3],\n",
              "       [4, 1, 1],\n",
              "       [3, 3, 1],\n",
              "       [2, 4, 2],\n",
              "       [2, 4, 3],\n",
              "       [4, 3, 0],\n",
              "       [0, 3, 4],\n",
              "       [2, 3, 2],\n",
              "       [4, 0, 0],\n",
              "       [0, 1, 3],\n",
              "       [1, 3, 1],\n",
              "       [4, 4, 1],\n",
              "       [1, 0, 1],\n",
              "       [1, 3, 1],\n",
              "       [1, 3, 3],\n",
              "       [4, 3, 0],\n",
              "       [3, 3, 3],\n",
              "       [0, 4, 0],\n",
              "       [4, 4, 2],\n",
              "       [2, 4, 3],\n",
              "       [3, 2, 4],\n",
              "       [4, 0, 2],\n",
              "       [3, 4, 2],\n",
              "       [2, 4, 1],\n",
              "       [0, 1, 4],\n",
              "       [0, 0, 1],\n",
              "       [4, 3, 4],\n",
              "       [1, 1, 4],\n",
              "       [1, 4, 1],\n",
              "       [2, 1, 2],\n",
              "       [4, 0, 1],\n",
              "       [2, 1, 3],\n",
              "       [0, 4, 2],\n",
              "       [0, 0, 4],\n",
              "       [0, 4, 1],\n",
              "       [0, 2, 0],\n",
              "       [4, 2, 2],\n",
              "       [1, 0, 2],\n",
              "       [2, 4, 1],\n",
              "       [1, 2, 2],\n",
              "       [3, 3, 1],\n",
              "       [3, 0, 1],\n",
              "       [4, 2, 4],\n",
              "       [0, 1, 3],\n",
              "       [4, 3, 4],\n",
              "       [1, 4, 2],\n",
              "       [2, 3, 2],\n",
              "       [0, 3, 1],\n",
              "       [0, 1, 2],\n",
              "       [3, 4, 0],\n",
              "       [2, 0, 4],\n",
              "       [1, 1, 3],\n",
              "       [1, 3, 4],\n",
              "       [1, 4, 2],\n",
              "       [3, 4, 1],\n",
              "       [3, 0, 4],\n",
              "       [0, 1, 0],\n",
              "       [3, 0, 1],\n",
              "       [3, 2, 4],\n",
              "       [1, 4, 3],\n",
              "       [3, 4, 1],\n",
              "       [2, 1, 4],\n",
              "       [2, 2, 0],\n",
              "       [2, 4, 0],\n",
              "       [4, 2, 1],\n",
              "       [3, 4, 4],\n",
              "       [3, 1, 2],\n",
              "       [1, 3, 3],\n",
              "       [2, 0, 2],\n",
              "       [4, 2, 3],\n",
              "       [2, 0, 4],\n",
              "       [4, 1, 4],\n",
              "       [4, 4, 3],\n",
              "       [1, 0, 0],\n",
              "       [4, 0, 0],\n",
              "       [3, 0, 3],\n",
              "       [4, 0, 0],\n",
              "       [3, 0, 2],\n",
              "       [2, 0, 3],\n",
              "       [1, 3, 1],\n",
              "       [2, 4, 2],\n",
              "       [3, 4, 2],\n",
              "       [1, 3, 4],\n",
              "       [0, 1, 4],\n",
              "       [4, 2, 2],\n",
              "       [3, 3, 0],\n",
              "       [0, 3, 0],\n",
              "       [4, 1, 1],\n",
              "       [0, 4, 2],\n",
              "       [0, 2, 4],\n",
              "       [1, 3, 3],\n",
              "       [0, 4, 0],\n",
              "       [2, 1, 2],\n",
              "       [2, 0, 4],\n",
              "       [0, 0, 3]])"
            ]
          },
          "metadata": {},
          "execution_count": 111
        }
      ]
    },
    {
      "cell_type": "code",
      "source": [
        "# Exercise 4 Make the above array symmetrical\n"
      ],
      "metadata": {
        "id": "he0uHOtXqZM2"
      },
      "execution_count": null,
      "outputs": []
    },
    {
      "cell_type": "code",
      "source": [
        "#Solution\n",
        "Z[:,0]=Z[:,-1]\n",
        "Z"
      ],
      "metadata": {
        "colab": {
          "base_uri": "https://localhost:8080/"
        },
        "id": "OmqB_toda0Q2",
        "outputId": "6a7bb52a-d6b6-483d-b463-82e2bd93c422"
      },
      "execution_count": 98,
      "outputs": [
        {
          "output_type": "execute_result",
          "data": {
            "text/plain": [
              "array([[2, 4, 2],\n",
              "       [1, 3, 1],\n",
              "       [0, 1, 0],\n",
              "       [3, 1, 3],\n",
              "       [2, 3, 2],\n",
              "       [0, 2, 0],\n",
              "       [3, 2, 3],\n",
              "       [2, 4, 2],\n",
              "       [3, 1, 3],\n",
              "       [1, 1, 1],\n",
              "       [4, 2, 4],\n",
              "       [4, 0, 4],\n",
              "       [4, 2, 4],\n",
              "       [0, 2, 0],\n",
              "       [4, 4, 4],\n",
              "       [2, 1, 2],\n",
              "       [0, 1, 0],\n",
              "       [4, 2, 4],\n",
              "       [3, 2, 3],\n",
              "       [4, 1, 4],\n",
              "       [2, 3, 2],\n",
              "       [4, 3, 4],\n",
              "       [2, 4, 2],\n",
              "       [0, 1, 0],\n",
              "       [0, 2, 0],\n",
              "       [2, 3, 2],\n",
              "       [0, 0, 0],\n",
              "       [1, 2, 1],\n",
              "       [3, 2, 3],\n",
              "       [1, 0, 1],\n",
              "       [0, 3, 0],\n",
              "       [3, 1, 3],\n",
              "       [3, 4, 3],\n",
              "       [0, 3, 0],\n",
              "       [0, 0, 0],\n",
              "       [3, 0, 3],\n",
              "       [1, 0, 1],\n",
              "       [2, 1, 2],\n",
              "       [4, 4, 4],\n",
              "       [3, 4, 3],\n",
              "       [3, 4, 3],\n",
              "       [2, 1, 2],\n",
              "       [3, 1, 3],\n",
              "       [1, 3, 1],\n",
              "       [0, 0, 0],\n",
              "       [0, 0, 0],\n",
              "       [3, 4, 3],\n",
              "       [4, 0, 4],\n",
              "       [2, 2, 2],\n",
              "       [0, 4, 0],\n",
              "       [4, 2, 4],\n",
              "       [1, 2, 1],\n",
              "       [2, 3, 2],\n",
              "       [0, 3, 0],\n",
              "       [0, 3, 0],\n",
              "       [0, 3, 0],\n",
              "       [1, 0, 1],\n",
              "       [4, 0, 4],\n",
              "       [3, 2, 3],\n",
              "       [4, 3, 4],\n",
              "       [0, 0, 0],\n",
              "       [4, 4, 4],\n",
              "       [1, 4, 1],\n",
              "       [0, 3, 0],\n",
              "       [1, 1, 1],\n",
              "       [2, 0, 2],\n",
              "       [1, 0, 1],\n",
              "       [1, 2, 1],\n",
              "       [1, 0, 1],\n",
              "       [4, 1, 4],\n",
              "       [0, 3, 0],\n",
              "       [3, 2, 3],\n",
              "       [4, 2, 4],\n",
              "       [4, 1, 4],\n",
              "       [1, 2, 1],\n",
              "       [3, 2, 3],\n",
              "       [0, 3, 0],\n",
              "       [4, 4, 4],\n",
              "       [3, 2, 3],\n",
              "       [4, 0, 4],\n",
              "       [3, 1, 3],\n",
              "       [3, 4, 3],\n",
              "       [4, 2, 4],\n",
              "       [3, 4, 3],\n",
              "       [4, 4, 4],\n",
              "       [0, 0, 0],\n",
              "       [2, 3, 2],\n",
              "       [0, 3, 0],\n",
              "       [2, 1, 2],\n",
              "       [3, 1, 3],\n",
              "       [4, 2, 4],\n",
              "       [1, 2, 1],\n",
              "       [2, 1, 2],\n",
              "       [0, 4, 0],\n",
              "       [3, 4, 3],\n",
              "       [0, 1, 0],\n",
              "       [0, 4, 0],\n",
              "       [3, 1, 3],\n",
              "       [2, 4, 2],\n",
              "       [2, 1, 2],\n",
              "       [0, 4, 0],\n",
              "       [4, 1, 4],\n",
              "       [0, 1, 0],\n",
              "       [2, 2, 2],\n",
              "       [2, 2, 2],\n",
              "       [0, 4, 0],\n",
              "       [3, 0, 3],\n",
              "       [1, 2, 1],\n",
              "       [2, 2, 2],\n",
              "       [0, 1, 0],\n",
              "       [2, 3, 2],\n",
              "       [3, 1, 3],\n",
              "       [4, 3, 4],\n",
              "       [0, 3, 0],\n",
              "       [1, 2, 1],\n",
              "       [2, 2, 2],\n",
              "       [3, 4, 3],\n",
              "       [3, 0, 3],\n",
              "       [3, 0, 3],\n",
              "       [4, 2, 4],\n",
              "       [2, 3, 2],\n",
              "       [4, 3, 4],\n",
              "       [4, 4, 4],\n",
              "       [4, 1, 4],\n",
              "       [3, 1, 3],\n",
              "       [1, 4, 1],\n",
              "       [4, 1, 4],\n",
              "       [0, 3, 0],\n",
              "       [0, 1, 0],\n",
              "       [4, 0, 4],\n",
              "       [4, 3, 4],\n",
              "       [1, 4, 1],\n",
              "       [4, 4, 4],\n",
              "       [1, 1, 1],\n",
              "       [0, 2, 0],\n",
              "       [4, 2, 4],\n",
              "       [0, 3, 0],\n",
              "       [2, 3, 2],\n",
              "       [3, 4, 3],\n",
              "       [0, 2, 0],\n",
              "       [3, 3, 3],\n",
              "       [4, 3, 4],\n",
              "       [3, 4, 3],\n",
              "       [0, 4, 0],\n",
              "       [1, 1, 1],\n",
              "       [2, 3, 2],\n",
              "       [0, 2, 0],\n",
              "       [2, 3, 2],\n",
              "       [1, 0, 1],\n",
              "       [1, 1, 1],\n",
              "       [4, 0, 4],\n",
              "       [2, 2, 2],\n",
              "       [2, 1, 2],\n",
              "       [3, 0, 3],\n",
              "       [0, 4, 0],\n",
              "       [3, 0, 3],\n",
              "       [3, 2, 3],\n",
              "       [0, 2, 0],\n",
              "       [2, 2, 2],\n",
              "       [0, 2, 0],\n",
              "       [0, 1, 0],\n",
              "       [0, 1, 0],\n",
              "       [1, 0, 1],\n",
              "       [2, 4, 2],\n",
              "       [2, 2, 2],\n",
              "       [2, 4, 2],\n",
              "       [0, 0, 0],\n",
              "       [1, 1, 1],\n",
              "       [3, 3, 3],\n",
              "       [3, 0, 3],\n",
              "       [1, 3, 1],\n",
              "       [4, 4, 4],\n",
              "       [0, 4, 0],\n",
              "       [0, 0, 0],\n",
              "       [2, 1, 2],\n",
              "       [4, 3, 4],\n",
              "       [3, 0, 3],\n",
              "       [2, 1, 2],\n",
              "       [2, 4, 2],\n",
              "       [0, 3, 0],\n",
              "       [1, 1, 1],\n",
              "       [3, 0, 3],\n",
              "       [4, 2, 4],\n",
              "       [3, 2, 3],\n",
              "       [3, 0, 3],\n",
              "       [2, 2, 2],\n",
              "       [1, 2, 1],\n",
              "       [2, 0, 2],\n",
              "       [1, 0, 1],\n",
              "       [0, 1, 0],\n",
              "       [2, 3, 2],\n",
              "       [2, 0, 2],\n",
              "       [2, 2, 2],\n",
              "       [4, 3, 4],\n",
              "       [0, 1, 0],\n",
              "       [0, 2, 0],\n",
              "       [2, 2, 2],\n",
              "       [2, 3, 2],\n",
              "       [1, 3, 1],\n",
              "       [4, 0, 4]])"
            ]
          },
          "metadata": {},
          "execution_count": 98
        }
      ]
    }
  ]
}